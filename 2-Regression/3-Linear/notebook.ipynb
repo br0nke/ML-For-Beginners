{
 "cells": [
  {
   "cell_type": "markdown",
   "metadata": {},
   "source": [
    "## Pumpkin Pricing\n",
    "\n",
    "Load up required libraries and dataset. Convert the data to a dataframe containing a subset of the data: \n",
    "\n",
    "- Only get pumpkins priced by the bushel\n",
    "- Convert the date to a month\n",
    "- Calculate the price to be an average of high and low prices\n",
    "- Convert the price to reflect the pricing by bushel quantity"
   ]
  },
  {
   "cell_type": "code",
   "execution_count": 13,
   "metadata": {},
   "outputs": [
    {
     "data": {
      "text/html": [
       "<div>\n",
       "<style scoped>\n",
       "    .dataframe tbody tr th:only-of-type {\n",
       "        vertical-align: middle;\n",
       "    }\n",
       "\n",
       "    .dataframe tbody tr th {\n",
       "        vertical-align: top;\n",
       "    }\n",
       "\n",
       "    .dataframe thead th {\n",
       "        text-align: right;\n",
       "    }\n",
       "</style>\n",
       "<table border=\"1\" class=\"dataframe\">\n",
       "  <thead>\n",
       "    <tr style=\"text-align: right;\">\n",
       "      <th></th>\n",
       "      <th>Date</th>\n",
       "      <th>Price</th>\n",
       "      <th>Open</th>\n",
       "      <th>High</th>\n",
       "      <th>Low</th>\n",
       "      <th>Vol.</th>\n",
       "      <th>Change %</th>\n",
       "    </tr>\n",
       "  </thead>\n",
       "  <tbody>\n",
       "    <tr>\n",
       "      <th>0</th>\n",
       "      <td>09/04/2024</td>\n",
       "      <td>69092.9</td>\n",
       "      <td>71627.3</td>\n",
       "      <td>71737.2</td>\n",
       "      <td>68615.0</td>\n",
       "      <td>87.93K</td>\n",
       "      <td>-3.54%</td>\n",
       "    </tr>\n",
       "    <tr>\n",
       "      <th>1</th>\n",
       "      <td>08/04/2024</td>\n",
       "      <td>71630.1</td>\n",
       "      <td>69358.0</td>\n",
       "      <td>72710.8</td>\n",
       "      <td>69110.5</td>\n",
       "      <td>105.78K</td>\n",
       "      <td>3.27%</td>\n",
       "    </tr>\n",
       "    <tr>\n",
       "      <th>2</th>\n",
       "      <td>07/04/2024</td>\n",
       "      <td>69360.4</td>\n",
       "      <td>68897.3</td>\n",
       "      <td>70285.8</td>\n",
       "      <td>68849.4</td>\n",
       "      <td>46.99K</td>\n",
       "      <td>0.68%</td>\n",
       "    </tr>\n",
       "    <tr>\n",
       "      <th>3</th>\n",
       "      <td>06/04/2024</td>\n",
       "      <td>68890.6</td>\n",
       "      <td>67830.5</td>\n",
       "      <td>69632.0</td>\n",
       "      <td>67467.2</td>\n",
       "      <td>41.48K</td>\n",
       "      <td>1.56%</td>\n",
       "    </tr>\n",
       "    <tr>\n",
       "      <th>4</th>\n",
       "      <td>05/04/2024</td>\n",
       "      <td>67830.6</td>\n",
       "      <td>68498.7</td>\n",
       "      <td>68692.2</td>\n",
       "      <td>66023.3</td>\n",
       "      <td>88.97K</td>\n",
       "      <td>-0.97%</td>\n",
       "    </tr>\n",
       "  </tbody>\n",
       "</table>\n",
       "</div>"
      ],
      "text/plain": [
       "         Date    Price     Open     High      Low     Vol. Change %\n",
       "0  09/04/2024  69092.9  71627.3  71737.2  68615.0   87.93K   -3.54%\n",
       "1  08/04/2024  71630.1  69358.0  72710.8  69110.5  105.78K    3.27%\n",
       "2  07/04/2024  69360.4  68897.3  70285.8  68849.4   46.99K    0.68%\n",
       "3  06/04/2024  68890.6  67830.5  69632.0  67467.2   41.48K    1.56%\n",
       "4  05/04/2024  67830.6  68498.7  68692.2  66023.3   88.97K   -0.97%"
      ]
     },
     "execution_count": 13,
     "metadata": {},
     "output_type": "execute_result"
    }
   ],
   "source": [
    "import pandas as pd\n",
    "import matplotlib.pyplot as plt\n",
    "import numpy as np\n",
    "from datetime import datetime\n",
    "\n",
    "pumpkins = pd.read_csv('../data/US-pumpkins.csv')\n",
    "bitcoin = pd.read_csv('../data/bitcoindata.csv')\n",
    "bitcoin['Price'] = bitcoin['Price'].str.replace(',', '').astype(float)\n",
    "bitcoin['Open'] = bitcoin['Open'].str.replace(',', '').astype(float)\n",
    "bitcoin['High'] = bitcoin['High'].str.replace(',', '').astype(float)\n",
    "bitcoin['Low'] = bitcoin['Low'].str.replace(',', '').astype(float)\n",
    "\n",
    "bitcoin.head()\n"
   ]
  },
  {
   "cell_type": "code",
   "execution_count": 21,
   "metadata": {},
   "outputs": [
    {
     "data": {
      "text/html": [
       "<div>\n",
       "<style scoped>\n",
       "    .dataframe tbody tr th:only-of-type {\n",
       "        vertical-align: middle;\n",
       "    }\n",
       "\n",
       "    .dataframe tbody tr th {\n",
       "        vertical-align: top;\n",
       "    }\n",
       "\n",
       "    .dataframe thead th {\n",
       "        text-align: right;\n",
       "    }\n",
       "</style>\n",
       "<table border=\"1\" class=\"dataframe\">\n",
       "  <thead>\n",
       "    <tr style=\"text-align: right;\">\n",
       "      <th></th>\n",
       "      <th>Month</th>\n",
       "      <th>Low</th>\n",
       "      <th>High</th>\n",
       "      <th>Price</th>\n",
       "    </tr>\n",
       "  </thead>\n",
       "  <tbody>\n",
       "    <tr>\n",
       "      <th>0</th>\n",
       "      <td>9</td>\n",
       "      <td>68615.0</td>\n",
       "      <td>71737.2</td>\n",
       "      <td>69092.9</td>\n",
       "    </tr>\n",
       "    <tr>\n",
       "      <th>1</th>\n",
       "      <td>8</td>\n",
       "      <td>69110.5</td>\n",
       "      <td>72710.8</td>\n",
       "      <td>71630.1</td>\n",
       "    </tr>\n",
       "    <tr>\n",
       "      <th>2</th>\n",
       "      <td>7</td>\n",
       "      <td>68849.4</td>\n",
       "      <td>70285.8</td>\n",
       "      <td>69360.4</td>\n",
       "    </tr>\n",
       "    <tr>\n",
       "      <th>3</th>\n",
       "      <td>6</td>\n",
       "      <td>67467.2</td>\n",
       "      <td>69632.0</td>\n",
       "      <td>68890.6</td>\n",
       "    </tr>\n",
       "    <tr>\n",
       "      <th>4</th>\n",
       "      <td>5</td>\n",
       "      <td>66023.3</td>\n",
       "      <td>68692.2</td>\n",
       "      <td>67830.6</td>\n",
       "    </tr>\n",
       "  </tbody>\n",
       "</table>\n",
       "</div>"
      ],
      "text/plain": [
       "   Month      Low     High    Price\n",
       "0      9  68615.0  71737.2  69092.9\n",
       "1      8  69110.5  72710.8  71630.1\n",
       "2      7  68849.4  70285.8  69360.4\n",
       "3      6  67467.2  69632.0  68890.6\n",
       "4      5  66023.3  68692.2  67830.6"
      ]
     },
     "execution_count": 21,
     "metadata": {},
     "output_type": "execute_result"
    }
   ],
   "source": [
    "\n",
    "\n",
    "columns_to_select = ['Price', 'Low', 'High', 'Date']\n",
    "bitcoin = bitcoin.loc[:, columns_to_select]\n",
    "\n",
    "month = pd.DatetimeIndex(bitcoin['Date']).month\n",
    "\n",
    "new_bitcoin = pd.DataFrame(\n",
    "    {'Month': month, \n",
    "     'Low': bitcoin['Low'],\n",
    "     'High': bitcoin['High'], \n",
    "     'Price': bitcoin['Price']})\n",
    "\n",
    "new_bitcoin.head()\n"
   ]
  },
  {
   "cell_type": "markdown",
   "metadata": {},
   "source": [
    "A basic scatterplot reminds us that we only have month data from August through December. We probably need more data to be able to draw conclusions in a linear fashion."
   ]
  },
  {
   "cell_type": "code",
   "execution_count": 22,
   "metadata": {},
   "outputs": [
    {
     "data": {
      "text/plain": [
       "<matplotlib.collections.PathCollection at 0x17287b8b5f0>"
      ]
     },
     "execution_count": 22,
     "metadata": {},
     "output_type": "execute_result"
    },
    {
     "data": {
      "image/png": "[encoded data removed]",
      "text/plain": [
       "<Figure size 640x480 with 1 Axes>"
      ]
     },
     "metadata": {},
     "output_type": "display_data"
    }
   ],
   "source": [
    "import matplotlib.pyplot as plt\n",
    "plt.scatter('Month','Price',data=new_bitcoin)"
   ]
  },
  {
   "cell_type": "code",
   "execution_count": null,
   "metadata": {},
   "outputs": [],
   "source": [
    "\n",
    "plt.scatter('DayOfYear','Price',data=new_pumpkins)"
   ]
  }
 ],
 "metadata": {
  "kernelspec": {
   "display_name": "Python 3",
   "language": "python",
   "name": "python3"
  },
  "language_info": {
   "codemirror_mode": {
    "name": "ipython",
    "version": 3
   },
   "file_extension": ".py",
   "mimetype": "text/x-python",
   "name": "python",
   "nbconvert_exporter": "python",
   "pygments_lexer": "ipython3",
   "version": "3.12.1"
  },
  "orig_nbformat": 2
 },
 "nbformat": 4,
 "nbformat_minor": 2
}
