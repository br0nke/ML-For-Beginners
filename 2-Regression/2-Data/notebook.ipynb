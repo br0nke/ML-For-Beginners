{
 "cells": [
  {
   "cell_type": "code",
   "execution_count": 2,
   "metadata": {},
   "outputs": [
    {
     "data": {
      "text/html": [
       "<div>\n",
       "<style scoped>\n",
       "    .dataframe tbody tr th:only-of-type {\n",
       "        vertical-align: middle;\n",
       "    }\n",
       "\n",
       "    .dataframe tbody tr th {\n",
       "        vertical-align: top;\n",
       "    }\n",
       "\n",
       "    .dataframe thead th {\n",
       "        text-align: right;\n",
       "    }\n",
       "</style>\n",
       "<table border=\"1\" class=\"dataframe\">\n",
       "  <thead>\n",
       "    <tr style=\"text-align: right;\">\n",
       "      <th></th>\n",
       "      <th>Date</th>\n",
       "      <th>Price</th>\n",
       "      <th>Open</th>\n",
       "      <th>High</th>\n",
       "      <th>Low</th>\n",
       "      <th>Vol.</th>\n",
       "      <th>Change %</th>\n",
       "    </tr>\n",
       "  </thead>\n",
       "  <tbody>\n",
       "    <tr>\n",
       "      <th>0</th>\n",
       "      <td>09/04/2024</td>\n",
       "      <td>69,092.9</td>\n",
       "      <td>71,627.3</td>\n",
       "      <td>71,737.2</td>\n",
       "      <td>68,615.0</td>\n",
       "      <td>87.93K</td>\n",
       "      <td>-3.54%</td>\n",
       "    </tr>\n",
       "    <tr>\n",
       "      <th>1</th>\n",
       "      <td>08/04/2024</td>\n",
       "      <td>71,630.1</td>\n",
       "      <td>69,358.0</td>\n",
       "      <td>72,710.8</td>\n",
       "      <td>69,110.5</td>\n",
       "      <td>105.78K</td>\n",
       "      <td>3.27%</td>\n",
       "    </tr>\n",
       "    <tr>\n",
       "      <th>2</th>\n",
       "      <td>07/04/2024</td>\n",
       "      <td>69,360.4</td>\n",
       "      <td>68,897.3</td>\n",
       "      <td>70,285.8</td>\n",
       "      <td>68,849.4</td>\n",
       "      <td>46.99K</td>\n",
       "      <td>0.68%</td>\n",
       "    </tr>\n",
       "    <tr>\n",
       "      <th>3</th>\n",
       "      <td>06/04/2024</td>\n",
       "      <td>68,890.6</td>\n",
       "      <td>67,830.5</td>\n",
       "      <td>69,632.0</td>\n",
       "      <td>67,467.2</td>\n",
       "      <td>41.48K</td>\n",
       "      <td>1.56%</td>\n",
       "    </tr>\n",
       "    <tr>\n",
       "      <th>4</th>\n",
       "      <td>05/04/2024</td>\n",
       "      <td>67,830.6</td>\n",
       "      <td>68,498.7</td>\n",
       "      <td>68,692.2</td>\n",
       "      <td>66,023.3</td>\n",
       "      <td>88.97K</td>\n",
       "      <td>-0.97%</td>\n",
       "    </tr>\n",
       "  </tbody>\n",
       "</table>\n",
       "</div>"
      ],
      "text/plain": [
       "         Date     Price      Open      High       Low     Vol. Change %\n",
       "0  09/04/2024  69,092.9  71,627.3  71,737.2  68,615.0   87.93K   -3.54%\n",
       "1  08/04/2024  71,630.1  69,358.0  72,710.8  69,110.5  105.78K    3.27%\n",
       "2  07/04/2024  69,360.4  68,897.3  70,285.8  68,849.4   46.99K    0.68%\n",
       "3  06/04/2024  68,890.6  67,830.5  69,632.0  67,467.2   41.48K    1.56%\n",
       "4  05/04/2024  67,830.6  68,498.7  68,692.2  66,023.3   88.97K   -0.97%"
      ]
     },
     "execution_count": 2,
     "metadata": {},
     "output_type": "execute_result"
    }
   ],
   "source": [
    "import pandas as pd\n",
    "\n",
    "bitcoin = pd.read_csv('../data/bitcoindata.csv')\n",
    "\n",
    "bitcoin.head()"
   ]
  },
  {
   "cell_type": "code",
   "execution_count": 8,
   "metadata": {},
   "outputs": [],
   "source": [
    "\n",
    "month = pd.DatetimeIndex(bitcoin['Date']).month\n",
    "\n",
    "new_bitcoin = pd.DataFrame({'Month': month, 'Low': bitcoin['Low'], 'High': bitcoin['High'], 'Price': bitcoin['Price']})"
   ]
  },
  {
   "cell_type": "code",
   "execution_count": 12,
   "metadata": {},
   "outputs": [
    {
     "data": {
      "image/png": "[encoded data removed]",
      "text/plain": [
       "<Figure size 640x480 with 1 Axes>"
      ]
     },
     "metadata": {},
     "output_type": "display_data"
    }
   ],
   "source": [
    "import matplotlib.pyplot as plt\n",
    "\n",
    "price = new_bitcoin.Price\n",
    "month = new_bitcoin.Month\n",
    "\n",
    "plt.scatter(price, month)\n",
    "plt.show()"
   ]
  },
  {
   "cell_type": "code",
   "execution_count": 14,
   "metadata": {},
   "outputs": [
    {
     "data": {
      "text/html": [
       "<div>\n",
       "<style scoped>\n",
       "    .dataframe tbody tr th:only-of-type {\n",
       "        vertical-align: middle;\n",
       "    }\n",
       "\n",
       "    .dataframe tbody tr th {\n",
       "        vertical-align: top;\n",
       "    }\n",
       "\n",
       "    .dataframe thead th {\n",
       "        text-align: right;\n",
       "    }\n",
       "</style>\n",
       "<table border=\"1\" class=\"dataframe\">\n",
       "  <thead>\n",
       "    <tr style=\"text-align: right;\">\n",
       "      <th></th>\n",
       "      <th>Month</th>\n",
       "      <th>Low</th>\n",
       "      <th>High</th>\n",
       "      <th>Price</th>\n",
       "    </tr>\n",
       "  </thead>\n",
       "  <tbody>\n",
       "    <tr>\n",
       "      <th>4046</th>\n",
       "      <td>12</td>\n",
       "      <td>36.7</td>\n",
       "      <td>48.4</td>\n",
       "      <td>44.3</td>\n",
       "    </tr>\n",
       "    <tr>\n",
       "      <th>4047</th>\n",
       "      <td>11</td>\n",
       "      <td>45.5</td>\n",
       "      <td>48.5</td>\n",
       "      <td>48.4</td>\n",
       "    </tr>\n",
       "    <tr>\n",
       "      <th>4048</th>\n",
       "      <td>10</td>\n",
       "      <td>45.5</td>\n",
       "      <td>48.0</td>\n",
       "      <td>46.0</td>\n",
       "    </tr>\n",
       "    <tr>\n",
       "      <th>4049</th>\n",
       "      <td>9</td>\n",
       "      <td>43.4</td>\n",
       "      <td>47.0</td>\n",
       "      <td>46.8</td>\n",
       "    </tr>\n",
       "    <tr>\n",
       "      <th>4050</th>\n",
       "      <td>8</td>\n",
       "      <td>41.0</td>\n",
       "      <td>44.5</td>\n",
       "      <td>44.2</td>\n",
       "    </tr>\n",
       "  </tbody>\n",
       "</table>\n",
       "</div>"
      ],
      "text/plain": [
       "      Month   Low  High Price\n",
       "4046     12  36.7  48.4  44.3\n",
       "4047     11  45.5  48.5  48.4\n",
       "4048     10  45.5  48.0  46.0\n",
       "4049      9  43.4  47.0  46.8\n",
       "4050      8  41.0  44.5  44.2"
      ]
     },
     "execution_count": 14,
     "metadata": {},
     "output_type": "execute_result"
    }
   ],
   "source": [
    "new_bitcoin.tail()"
   ]
  },
  {
   "cell_type": "code",
   "execution_count": 17,
   "metadata": {},
   "outputs": [
    {
     "data": {
      "text/plain": [
       "Text(0, 0.5, 'Bitcoin price')"
      ]
     },
     "execution_count": 17,
     "metadata": {},
     "output_type": "execute_result"
    },
    {
     "data": {
      "image/png": "[encoded data removed]",
      "text/plain": [
       "<Figure size 640x480 with 1 Axes>"
      ]
     },
     "metadata": {},
     "output_type": "display_data"
    }
   ],
   "source": [
    "new_bitcoin['Price'] = new_bitcoin['Price'].str.replace(',', '').astype(float)\n",
    "new_bitcoin.groupby(['Month'])['Price'].mean().plot(kind='bar')\n",
    "\n",
    "plt.ylabel(\"Bitcoin price\")"
   ]
  },
  {
   "cell_type": "code",
   "execution_count": null,
   "metadata": {},
   "outputs": [],
   "source": []
  }
 ],
 "metadata": {
  "kernelspec": {
   "display_name": "Python 3",
   "language": "python",
   "name": "python3"
  },
  "language_info": {
   "codemirror_mode": {
    "name": "ipython",
    "version": 3
   },
   "file_extension": ".py",
   "mimetype": "text/x-python",
   "name": "python",
   "nbconvert_exporter": "python",
   "pygments_lexer": "ipython3",
   "version": "3.12.1"
  },
  "orig_nbformat": 2
 },
 "nbformat": 4,
 "nbformat_minor": 2
}
